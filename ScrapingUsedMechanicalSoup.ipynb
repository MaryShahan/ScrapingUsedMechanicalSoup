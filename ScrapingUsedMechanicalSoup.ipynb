{
  "nbformat": 4,
  "nbformat_minor": 0,
  "metadata": {
    "colab": {
      "name": "ScrapingUsedMechanicalSoup.ipynb",
      "provenance": [],
      "authorship_tag": "ABX9TyOAmAf5n24yKQ/P2b5oOEg2",
      "include_colab_link": true
    },
    "kernelspec": {
      "name": "python3",
      "display_name": "Python 3"
    },
    "language_info": {
      "name": "python"
    }
  },
  "cells": [
    {
      "cell_type": "markdown",
      "metadata": {
        "id": "view-in-github",
        "colab_type": "text"
      },
      "source": [
        "<a href=\"https://colab.research.google.com/github/maryamshahani/ScrapingUsedMechanicalSoup/blob/main/ScrapingUsedMechanicalSoup.ipynb\" target=\"_parent\"><img src=\"https://colab.research.google.com/assets/colab-badge.svg\" alt=\"Open In Colab\"/></a>"
      ]
    },
    {
      "cell_type": "markdown",
      "source": [
        "# Can you create a local database of cat and dog photos? automating the process of searching for images on Google, downloading them and saving them to a new local directory"
      ],
      "metadata": {
        "id": "h-Cu-cP7-qZi"
      }
    },
    {
      "cell_type": "code",
      "execution_count": 22,
      "metadata": {
        "colab": {
          "base_uri": "https://localhost:8080/"
        },
        "id": "LAtmGMVF-Krq",
        "outputId": "84f83aab-2652-4f79-84b0-15d3bfedeefd"
      },
      "outputs": [
        {
          "output_type": "stream",
          "name": "stdout",
          "text": [
            "https://www.google.com/imghp?hl=en\n"
          ]
        }
      ],
      "source": [
        "#Navigate to Google image\n",
        "import mechanicalsoup\n",
        "\n",
        "browser = mechanicalsoup.StatefulBrowser()\n",
        "url = 'https://www.google.com/imghp?hl=en'\n",
        "browser.open(url)\n",
        "print(browser.get_url())"
      ]
    },
    {
      "cell_type": "markdown",
      "source": [
        "# Type a search term and click \"search\""
      ],
      "metadata": {
        "id": "gBreDoqbXi4P"
      }
    },
    {
      "cell_type": "code",
      "source": [
        "#extractig total HTML from the webpage(get HTML)\n",
        "browser.get_current_page()"
      ],
      "metadata": {
        "colab": {
          "base_uri": "https://localhost:8080/"
        },
        "id": "SDwU2DyQBM20",
        "outputId": "e9c54e12-8fd6-4e19-bd9e-1f515d3c39d2"
      },
      "execution_count": 23,
      "outputs": [
        {
          "output_type": "execute_result",
          "data": {
            "text/plain": [
              "<!DOCTYPE html>\n",
              "<html itemscope=\"\" itemtype=\"http://schema.org/WebPage\" lang=\"en\"><head><meta content=\"Google Images. The most comprehensive image search on the web.\" name=\"description\"/><meta content=\"text/html; charset=utf-8\" http-equiv=\"Content-Type\"/><meta content=\"/images/branding/googleg/1x/googleg_standard_color_128dp.png\" itemprop=\"image\"/><title>Google Images</title><script nonce=\"INe0lr7UoROHfwBkT8vbwg==\">(function(){window.google={kEI:'RaC2YYrPFt6EwbkPr6yK4AY',kEXPI:'0,1302536,56873,6058,207,4804,2316,383,246,5,1354,4013,923,315,1122515,1197714,177,510,380089,16115,17444,11240,893,16679,4859,1361,9290,3023,17586,4020,978,13228,3847,4193,6433,1138,20680,919,5081,889,704,1279,2212,530,149,1103,840,1983,4,4310,3514,606,2023,1777,520,14670,3227,2846,6,12354,5096,14396,1372,552,908,2,940,15325,432,3,346,1244,1,5445,148,11323,2652,4,1253,275,2304,6462,577,74,1983,2626,17340,3050,2658,4164,3191,32,11412,2216,2305,675,1457,13627,1724,1435,5821,2536,4094,3138,6,908,3,3541,2,14710,1813,283,912,5992,14678,3765,2,6048,7974,1931,442,342,3125,123,1557,743,2351,3502,10463,1160,1266,5434,2380,2719,3708,2,6056,4404,2377,1731,1,8,1660,6076,4567,2578,3120,558,6635,91,1,3773,3,8128,4790,1252,4570,1,8,9090,3427,3707,4332,2204,566,1517,99,291,203,1110,100,52,1276,511,2,2,1,3008,3155,979,29,4597,1389,2601,561,216,2,106,189,387,423,1,2,1590,868,376,596,3,1174,1117,6,2,575,443,233,606,1,19,439,2,478,220,239,320,726,784,1212,359,2354,651,17,456,797,11,120,203,107,38,111,2,253,200,9,11,27,22,103,5,180,245,97,2,1030,1438,29,1215,80,2,69,5,134,124,173,4,67,1513,239,2441,5510495,3904,190,256,315,100,181,5995752,521,258,2799115,1323,882,444,1,2,80,1,1796,1,9,2553,1,748,141,795,563,1,4265,1,1,2,1331,4142,2609,155,17,13,72,139,4,2,20,2,169,13,19,46,5,39,96,548,29,2,2,1,2,1,2,2,7,4,1,2,2,2,2,2,2,353,513,186,1,1,158,3,2,2,2,2,2,4,2,3,3,269,1601,88,15,7,9,22,57,2,13,34,23653043,299831,4041352,338,3,2414,1008,483,9,1435,159,1358,406,722,3,3175,414,3,2472,729,225,677,831625',kBL:'4JUY'};google.sn='imghp';google.kHL='en';})();(function(){\n",
              "var f=this||self;var h,k=[];function l(a){for(var b;a&&(!a.getAttribute||!(b=a.getAttribute(\"eid\")));)a=a.parentNode;return b||h}function m(a){for(var b=null;a&&(!a.getAttribute||!(b=a.getAttribute(\"leid\")));)a=a.parentNode;return b}\n",
              "function n(a,b,c,d,g){var e=\"\";c||-1!==b.search(\"&ei=\")||(e=\"&ei=\"+l(d),-1===b.search(\"&lei=\")&&(d=m(d))&&(e+=\"&lei=\"+d));d=\"\";!c&&f._cshid&&-1===b.search(\"&cshid=\")&&\"slh\"!==a&&(d=\"&cshid=\"+f._cshid);c=c||\"/\"+(g||\"gen_204\")+\"?atyp=i&ct=\"+a+\"&cad=\"+b+e+\"&zx=\"+Date.now()+d;/^http:/i.test(c)&&\"https:\"===window.location.protocol&&(google.ml&&google.ml(Error(\"a\"),!1,{src:c,glmm:1}),c=\"\");return c};h=google.kEI;google.getEI=l;google.getLEI=m;google.ml=function(){return null};google.log=function(a,b,c,d,g){if(c=n(a,b,c,d,g)){a=new Image;var e=k.length;k[e]=a;a.onerror=a.onload=a.onabort=function(){delete k[e]};a.src=c}};google.logUrl=n;}).call(this);(function(){\n",
              "google.y={};google.sy=[];google.x=function(a,b){if(a)var c=a.id;else{do c=Math.random();while(google.y[c])}google.y[c]=[a,b];return!1};google.sx=function(a){google.sy.push(a)};google.lm=[];google.plm=function(a){google.lm.push.apply(google.lm,a)};google.lq=[];google.load=function(a,b,c){google.lq.push([[a],b,c])};google.loadAll=function(a,b){google.lq.push([a,b])};google.bx=!1;google.lx=function(){};}).call(this);google.f={};(function(){\n",
              "document.documentElement.addEventListener(\"submit\",function(b){var a;if(a=b.target){var c=a.getAttribute(\"data-submitfalse\");a=\"1\"===c||\"q\"===c&&!a.elements.q.value?!0:!1}else a=!1;a&&(b.preventDefault(),b.stopPropagation())},!0);document.documentElement.addEventListener(\"click\",function(b){var a;a:{for(a=b.target;a&&a!==document.documentElement;a=a.parentElement)if(\"A\"===a.tagName){a=\"1\"===a.getAttribute(\"data-nohref\");break a}a=!1}a&&b.preventDefault()},!0);}).call(this);</script><style>#gbar,#guser{font-size:13px;padding-top:1px !important;}#gbar{height:22px}#guser{padding-bottom:7px !important;text-align:right}.gbh,.gbd{border-top:1px solid #c9d7f1;font-size:1px}.gbh{height:0;position:absolute;top:24px;width:100%}@media all{.gb1{height:22px;margin-right:.5em;vertical-align:top}#gbar{float:left}}a.gb1,a.gb4{text-decoration:underline !important}a.gb1,a.gb4{color:#00c !important}.gbi .gb4{color:#dd8e27 !important}.gbf .gb4{color:#900 !important}\n",
              "</style><style>body,td,a,p,.h{font-family:arial,sans-serif}body{margin:0;overflow-y:scroll}#gog{padding:3px 8px 0}td{line-height:.8em}.gac_m td{line-height:17px}form{margin-bottom:20px}.h{color:#1558d6}em{font-weight:bold;font-style:normal}.lst{height:25px;width:496px}.gsfi,.lst{font:18px arial,sans-serif}.gsfs{font:17px arial,sans-serif}.ds{display:inline-box;display:inline-block;margin:3px 0 4px;margin-left:4px}input{font-family:inherit}body{background:#fff;color:#000}a{color:#4b11a8;text-decoration:none}a:hover,a:active{text-decoration:underline}.fl a{color:#1558d6}a:visited{color:#4b11a8}.sblc{padding-top:5px}.sblc a{display:block;margin:2px 0;margin-left:13px;font-size:11px}.lsbb{background:#f8f9fa;border:solid 1px;border-color:#dadce0 #70757a #70757a #dadce0;height:30px}.lsbb{display:block}#WqQANb a{display:inline-block;margin:0 12px}.lsb{background:url(/images/nav_logo229.png) 0 -261px repeat-x;border:none;color:#000;cursor:pointer;height:30px;margin:0;outline:0;font:15px arial,sans-serif;vertical-align:top}.lsb:active{background:#dadce0}.lst:focus{outline:none}.prms{color:#c5221f;font-size:13px}.sshppd{font-size:13px;margin:32px 0 26px}.sshpplo span{color:#c5221f}.sshpplt{margin:15px 0 30px}</style><script nonce=\"INe0lr7UoROHfwBkT8vbwg==\">(function(){window.google.erd={jsr:0,bv:1493,de:true};\n",
              "var f=this||self;var g,h,k=null!==(g=f.mei)&&void 0!==g?g:1,l=null!==(h=f.sdo)&&void 0!==h?h:!0,p=0,q,r=google.erd,u=r.jsr;google.ml=function(a,b,d,m,c){c=void 0===c?2:c;b&&(q=a&&a.message);if(google.dl)return google.dl(a,c,d),null;if(0>u){window.console&&console.error(a,d);if(-2===u)throw a;b=!1}else b=!a||!a.message||\"Error loading script\"===a.message||p>=k&&!m?!1:!0;if(!b)return null;p++;d=d||{};var e=c;c=encodeURIComponent;b=\"/gen_204?atyp=i&ei=\"+c(google.kEI);google.kEXPI&&(b+=\"&jexpid=\"+c(google.kEXPI));b+=\"&srcpg=\"+c(google.sn)+\"&jsr=\"+c(r.jsr)+\"&bver=\"+c(r.bv)+(\"&jsel=\"+e);e=a.lineNumber;void 0!==e&&(b+=\"&line=\"+\n",
              "e);var n=a.fileName;n&&(b+=\"&script=\"+c(n),e&&n===window.location.href&&(e=document.documentElement.outerHTML.split(\"\\n\")[e],b+=\"&cad=\"+c(e?e.substring(0,300):\"No script found.\")));for(var t in d)b+=\"&\",b+=c(t),b+=\"=\",b+=c(d[t]);b=b+\"&emsg=\"+c(a.name+\": \"+a.message);b=b+\"&jsst=\"+c(a.stack||\"N/A\");12288<=b.length&&(b=b.substr(0,12288));a=b;m||google.log(0,\"\",a);return a};window.onerror=function(a,b,d,m,c){q!==a&&(a=c instanceof Error?c:Error(a),void 0===d||\"lineNumber\"in a||(a.lineNumber=d),void 0===b||\"fileName\"in a||(a.fileName=b),google.ml(a,!1,void 0,!1,\"SyntaxError\"===a.name||\"SyntaxError\"===a.message.substring(0,11)?2:0));q=null;l&&p>=k&&(window.onerror=null)};})();</script></head><body bgcolor=\"#fff\"><script nonce=\"INe0lr7UoROHfwBkT8vbwg==\">(function(){var src='/images/nav_logo229.png';var iesg=false;document.body.onload = function(){window.n && window.n();if (document.images){new Image().src=src;}\n",
              "if (!iesg){document.f&&document.f.q.focus();document.gbqf&&document.gbqf.q.focus();}\n",
              "}\n",
              "})();</script><div id=\"mngb\"><div id=\"gbar\"><nobr><a class=\"gb1\" href=\"https://www.google.com/webhp?tab=iw\">Search</a> <b class=\"gb1\">Images</b> <a class=\"gb1\" href=\"https://maps.google.com/maps?hl=en&amp;tab=il\">Maps</a> <a class=\"gb1\" href=\"https://play.google.com/?hl=en&amp;tab=i8\">Play</a> <a class=\"gb1\" href=\"https://www.youtube.com/?gl=US&amp;tab=i1\">YouTube</a> <a class=\"gb1\" href=\"https://news.google.com/?tab=in\">News</a> <a class=\"gb1\" href=\"https://mail.google.com/mail/?tab=im\">Gmail</a> <a class=\"gb1\" href=\"https://drive.google.com/?tab=io\">Drive</a> <a class=\"gb1\" href=\"https://www.google.com/intl/en/about/products?tab=ih\" style=\"text-decoration:none\"><u>More</u> »</a></nobr></div><div id=\"guser\" width=\"100%\"><nobr><span class=\"gbi\" id=\"gbn\"></span><span class=\"gbf\" id=\"gbf\"></span><span id=\"gbe\"></span><a class=\"gb4\" href=\"http://www.google.com/history/optout?hl=en\">Web History</a> | <a class=\"gb4\" href=\"/preferences?hl=en\">Settings</a> | <a class=\"gb4\" href=\"https://accounts.google.com/ServiceLogin?hl=en&amp;passive=true&amp;continue=https://www.google.com/imghp%3Fhl%3Den&amp;ec=GAZAAg\" id=\"gb_70\" target=\"_top\">Sign in</a></nobr></div><div class=\"gbh\" style=\"left:0\"></div><div class=\"gbh\" style=\"right:0\"></div></div><center><br clear=\"all\" id=\"lgpd\"/><div id=\"lga\"><div style=\"padding:28px 0 3px\"><div align=\"left\" id=\"hplogo\" style=\"height:110px;width:276px;background:url(/intl/en_ALL/images/branding/googlelogo/1x/googlelogo_white_background_color_272x92dp.png) no-repeat\" title=\"Google Images\"><div nowrap=\"\" style=\"font-size:16px;font-weight:bold;position:relative;top:70px;color:#1a73e8;right:115px;float:right\"><span>Images</span></div></div></div><br/></div><form action=\"https://www.google.com/search\" name=\"f\"><table cellpadding=\"0\" cellspacing=\"0\"><tr valign=\"top\"><td width=\"25%\"> </td><td align=\"center\" nowrap=\"\"><input name=\"tbm\" type=\"hidden\" value=\"isch\"/><input name=\"ie\" type=\"hidden\" value=\"ISO-8859-1\"/><input name=\"hl\" type=\"hidden\" value=\"en\"/><input name=\"source\" type=\"hidden\" value=\"hp\"/><input name=\"biw\" type=\"hidden\"/><input name=\"bih\" type=\"hidden\"/><div class=\"ds\" style=\"height:32px;margin:4px 0\"><input autocomplete=\"off\" class=\"lst\" maxlength=\"2048\" name=\"q\" size=\"57\" style=\"margin:0;padding:5px 8px 0 6px;vertical-align:top;color:#000\" title=\"Search Images\" value=\"\"/></div> <span class=\"ds\"><span class=\"lsbb\"><input class=\"lsb\" name=\"btnG\" type=\"submit\" value=\"Search Images\"/></span></span></td><td align=\"left\" class=\"fl sblc\" nowrap=\"\" valign=\"middle\" width=\"25%\"><a href=\"/advanced_image_search?hl=en&amp;authuser=0\">Advanced Image Search</a></td></tr></table><input id=\"gbv\" name=\"gbv\" type=\"hidden\" value=\"1\"/><script nonce=\"INe0lr7UoROHfwBkT8vbwg==\">(function(){\n",
              "var a,b=\"1\";if(document&&document.getElementById)if(\"undefined\"!=typeof XMLHttpRequest)b=\"2\";else if(\"undefined\"!=typeof ActiveXObject){var c,d,e=[\"MSXML2.XMLHTTP.6.0\",\"MSXML2.XMLHTTP.3.0\",\"MSXML2.XMLHTTP\",\"Microsoft.XMLHTTP\"];for(c=0;d=e[c++];)try{new ActiveXObject(d),b=\"2\"}catch(h){}}a=b;if(\"2\"==a&&-1==location.search.indexOf(\"&gbv=2\")){var f=google.gbvu,g=document.getElementById(\"gbv\");g&&(g.value=a);f&&window.setTimeout(function(){location.href=f},0)};}).call(this);</script></form><div id=\"gac_scont\"></div><div style=\"font-size:83%;min-height:3.5em\"><br/></div><span id=\"footer\"><div style=\"font-size:10pt\"><div id=\"WqQANb\" style=\"margin:19px auto;text-align:center\"><a href=\"/intl/en/ads/\">Advertising Programs</a><a href=\"/services/\">Business Solutions</a><a href=\"/intl/en/about.html\">About Google</a></div></div><p style=\"font-size:8pt;color:#70757a\">© 2021 - <a href=\"/intl/en/policies/privacy/\">Privacy</a> - <a href=\"/intl/en/policies/terms/\">Terms</a></p></span></center><script nonce=\"INe0lr7UoROHfwBkT8vbwg==\">(function(){window.google.cdo={height:757,width:1440};(function(){\n",
              "var a=window.innerWidth,b=window.innerHeight;if(!a||!b){var c=window.document,d=\"CSS1Compat\"==c.compatMode?c.documentElement:c.body;a=d.clientWidth;b=d.clientHeight}a&&b&&(a!=google.cdo.width||b!=google.cdo.height)&&google.log(\"\",\"\",\"/client_204?&atyp=i&biw=\"+a+\"&bih=\"+b+\"&ei=\"+google.kEI);}).call(this);})();</script> <script nonce=\"INe0lr7UoROHfwBkT8vbwg==\">(function(){google.xjs={ck:'',cs:'',excm:[]};})();</script> <script nonce=\"INe0lr7UoROHfwBkT8vbwg==\">(function(){var u='/xjs/_/js/k\\x3dxjs.hp.en_US.8My0PvgdGIk.O/am\\x3dAPAEAEACkA/d\\x3d1/ed\\x3d1/esmo\\x3d1/rs\\x3dACT90oExR5Nf5Ycd1T-9ae1P5o1L8-Y5Ng/m\\x3dsb_he,d';\n",
              "var e=this||self,f=function(a){return a};var g;var l=function(a,b){this.g=b===h?a:\"\"};l.prototype.toString=function(){return this.g+\"\"};var h={};\n",
              "function m(){var a=u;google.lx=function(){n(a);google.lx=function(){}};google.bx||google.lx()}\n",
              "function n(a){google.timers&&google.timers.load&&google.tick&&google.tick(\"load\",\"xjsls\");var b=document;var c=\"SCRIPT\";\"application/xhtml+xml\"===b.contentType&&(c=c.toLowerCase());c=b.createElement(c);if(void 0===g){b=null;var k=e.trustedTypes;if(k&&k.createPolicy){try{b=k.createPolicy(\"goog#html\",{createHTML:f,createScript:f,createScriptURL:f})}catch(p){e.console&&e.console.error(p.message)}g=b}else g=b}a=(b=g)?b.createScriptURL(a):a;a=new l(a,h);c.src=a instanceof l&&a.constructor===l?a.g:\"type_error:TrustedResourceUrl\";var d;a=(c.ownerDocument&&c.ownerDocument.defaultView||window).document;(d=(b=null===(d=a.querySelector)||void 0===d?void 0:d.call(a,\"script[nonce]\"))?b.nonce||b.getAttribute(\"nonce\")||\"\":\"\")&&c.setAttribute(\"nonce\",d);document.body.appendChild(c);google.psa=!0};google.xjsu=u;setTimeout(function(){m()},0);})();function _DumpException(e){throw e;}\n",
              "function _F_installCss(c){}\n",
              "(function(){google.jl={attn:false,blt:'none',chnk:0,dw:false,dwu:true,emtn:0,end:0,ine:false,lls:'default',pdt:0,rep:0,snet:true,strt:0,ubm:false,uwp:true};})();(function(){var pmc='{\\x22d\\x22:{},\\x22sb_he\\x22:{\\x22agen\\x22:true,\\x22cgen\\x22:true,\\x22client\\x22:\\x22img\\x22,\\x22dh\\x22:true,\\x22dhqt\\x22:true,\\x22ds\\x22:\\x22i\\x22,\\x22ffql\\x22:\\x22en\\x22,\\x22host\\x22:\\x22google.com\\x22,\\x22isbh\\x22:28,\\x22jsonp\\x22:true,\\x22msgs\\x22:{\\x22cibl\\x22:\\x22Clear Search\\x22,\\x22dym\\x22:\\x22Did you mean:\\x22,\\x22lcky\\x22:\\x22I\\\\u0026#39;m Feeling Lucky\\x22,\\x22lml\\x22:\\x22Learn more\\x22,\\x22oskt\\x22:\\x22Input tools\\x22,\\x22psrc\\x22:\\x22This search was removed from your \\\\u003Ca href\\x3d\\\\\\x22/history\\\\\\x22\\\\u003EWeb History\\\\u003C/a\\\\u003E\\x22,\\x22psrl\\x22:\\x22Remove\\x22,\\x22sbit\\x22:\\x22Search by image\\x22,\\x22srch\\x22:\\x22Google Search\\x22},\\x22ovr\\x22:{},\\x22pq\\x22:\\x22\\x22,\\x22sbas\\x22:\\x220 3px 8px 0 rgba(0,0,0,0.2),0 0 0 1px rgba(0,0,0,0.08)\\x22,\\x22sbpl\\x22:16,\\x22sbpr\\x22:16,\\x22scd\\x22:10,\\x22stok\\x22:\\x228zwkGNNduNoagkHEfKCrkt7cFp4\\x22,\\x22uhde\\x22:false}}';google.pmc=JSON.parse(pmc);})();</script> </body></html>"
            ]
          },
          "metadata": {},
          "execution_count": 23
        }
      ]
    },
    {
      "cell_type": "code",
      "source": [
        "#target the search input\n",
        "browser.select_form()\n",
        "browser.get_current_form().print_summary()"
      ],
      "metadata": {
        "colab": {
          "base_uri": "https://localhost:8080/"
        },
        "id": "VNaU5WNxUG68",
        "outputId": "c06fc8a2-2e95-4d25-c06a-8d0249e58781"
      },
      "execution_count": 24,
      "outputs": [
        {
          "output_type": "stream",
          "name": "stdout",
          "text": [
            "<input name=\"tbm\" type=\"hidden\" value=\"isch\"/>\n",
            "<input name=\"ie\" type=\"hidden\" value=\"ISO-8859-1\"/>\n",
            "<input name=\"hl\" type=\"hidden\" value=\"en\"/>\n",
            "<input name=\"source\" type=\"hidden\" value=\"hp\"/>\n",
            "<input name=\"biw\" type=\"hidden\"/>\n",
            "<input name=\"bih\" type=\"hidden\"/>\n",
            "<input autocomplete=\"off\" class=\"lst\" maxlength=\"2048\" name=\"q\" size=\"57\" style=\"margin:0;padding:5px 8px 0 6px;vertical-align:top;color:#000\" title=\"Search Images\" value=\"\"/>\n",
            "<input class=\"lsb\" name=\"btnG\" type=\"submit\" value=\"Search Images\"/>\n",
            "<input id=\"gbv\" name=\"gbv\" type=\"hidden\" value=\"1\"/>\n"
          ]
        }
      ]
    },
    {
      "cell_type": "code",
      "source": [
        "#search for a term\n",
        "search_term = 'dog'\n",
        "browser[\"q\"] = search_term \n",
        "\n",
        "#submit/\"click\" search\n",
        "browser.launch_browser()\n",
        "response = browser.submit_selected()\n",
        "\n",
        "print('new url:', browser.get_url())\n",
        "print('my response:\\n', response.text[:500])"
      ],
      "metadata": {
        "colab": {
          "base_uri": "https://localhost:8080/"
        },
        "id": "7Yl0pNJfVcGf",
        "outputId": "d22b9df8-2d51-4775-958b-99aab48e281e"
      },
      "execution_count": 25,
      "outputs": [
        {
          "output_type": "stream",
          "name": "stdout",
          "text": [
            "new url: https://www.google.com/search?tbm=isch&ie=ISO-8859-1&hl=en&source=hp&biw=&bih=&q=dog&btnG=Search+Images&gbv=1\n",
            "my response:\n",
            " <!DOCTYPE html PUBLIC \"-//WAPFORUM//DTD XHTML Mobile 1.0//EN\" \"http://www.wapforum.org/DTD/xhtml-mobile10.dtd\"><html xmlns=\"http://www.w3.org/1999/xhtml\" lang=\"en\"><head><meta content=\"application/xhtml+xml; charset=UTF-8\" http-equiv=\"Content-Type\"/><meta content=\"no-cache\" name=\"Cache-Control\"/><title>dog - Google Search</title><style>a{text-decoration:none;color:inherit}a:hover{text-decoration:underline}a img{border:0}body{font-family:Roboto,Helvetica,Arial,sans-serif;padding:8px;margin:0 auto\n"
          ]
        }
      ]
    },
    {
      "cell_type": "markdown",
      "source": [
        "# Navigate to the new page and target all the images"
      ],
      "metadata": {
        "id": "yuzC3QpUXSCi"
      }
    },
    {
      "cell_type": "code",
      "source": [
        "#open new URL\n",
        "new_url = browser.get_url()\n",
        "browser.open(new_url)\n",
        "\n",
        "#get HTML\n",
        "page = browser.get_current_page()\n",
        "all_images = page.find_all('img')\n",
        "\n",
        "all_images"
      ],
      "metadata": {
        "colab": {
          "base_uri": "https://localhost:8080/"
        },
        "id": "5Pll2InXVdPk",
        "outputId": "4278e191-541b-4a80-d15d-c8175303e958"
      },
      "execution_count": 28,
      "outputs": [
        {
          "output_type": "execute_result",
          "data": {
            "text/plain": [
              "[<img alt=\"Google\" class=\"kgJEQe\" src=\"/images/branding/searchlogo/1x/googlelogo_desk_heirloom_color_150x55dp.gif\"/>,\n",
              " <img alt=\"\" class=\"yWs4tf\" src=\"https://encrypted-tbn0.gstatic.com/images?q=tbn:ANd9GcSJuEXmTSKR9l58eXylbu8B1sjphPPZSH1M5BMYmwVrVaUergeQa7XfcG6rKZk&amp;s\"/>,\n",
              " <img alt=\"\" class=\"yWs4tf\" src=\"https://encrypted-tbn0.gstatic.com/images?q=tbn:ANd9GcSPb0n2CBToQ-hK9855xO1hAcIariO0Ivm45Wkh0z48nyScTpC6R4rPhLlXdZQ&amp;s\"/>,\n",
              " <img alt=\"\" class=\"yWs4tf\" src=\"https://encrypted-tbn0.gstatic.com/images?q=tbn:ANd9GcTagma-A-PkMPXrzZbn5akRb2lTiiBJSRRHDkDEgtKrddZbNAxXwpTGwXLvwD8&amp;s\"/>,\n",
              " <img alt=\"\" class=\"yWs4tf\" src=\"https://encrypted-tbn0.gstatic.com/images?q=tbn:ANd9GcT9OcYMjjkg5KPK6IGCA41wiyqq47_0Qmi29shzBHXi97nihM2dO_l0t8siBnQ&amp;s\"/>,\n",
              " <img alt=\"\" class=\"yWs4tf\" src=\"https://encrypted-tbn0.gstatic.com/images?q=tbn:ANd9GcSf1JeNvMKeK53G9H4LvaM3x2-kiOcEN8LEPJrbqcwkUlqc36h-BAnXQy-oUrw&amp;s\"/>,\n",
              " <img alt=\"\" class=\"yWs4tf\" src=\"https://encrypted-tbn0.gstatic.com/images?q=tbn:ANd9GcRYA98PvLaorW61QtF55RD00Xsp350aD7gbOLUISBGzemXFm0PoOnSQfaeRsw&amp;s\"/>,\n",
              " <img alt=\"\" class=\"yWs4tf\" src=\"https://encrypted-tbn0.gstatic.com/images?q=tbn:ANd9GcQTOmkhPMLji4vd57r61axnTO1aysrz-7Wuv7-yUgBH010qK4I_Hiot6OGc3SQ&amp;s\"/>,\n",
              " <img alt=\"\" class=\"yWs4tf\" src=\"https://encrypted-tbn0.gstatic.com/images?q=tbn:ANd9GcTfLYoc2UQY1H-T6pDlPbAJ7J-_c5vxTdBLuMToBJRIM83bYkwLfUBzTW9VPHg&amp;s\"/>,\n",
              " <img alt=\"\" class=\"yWs4tf\" src=\"https://encrypted-tbn0.gstatic.com/images?q=tbn:ANd9GcSCt4GZvEBis4_VIQMzBfB5lVTwiiLaVJJkw2iEKWU_Y6E9n8RDJuhTnHaWKuQ&amp;s\"/>,\n",
              " <img alt=\"\" class=\"yWs4tf\" src=\"https://encrypted-tbn0.gstatic.com/images?q=tbn:ANd9GcSG-BtMakM9tksOOdP6k_yP7ixaNQ2FaTTu0BkBelQCKt7EKp5VseT1IcTXW6E&amp;s\"/>,\n",
              " <img alt=\"\" class=\"yWs4tf\" src=\"https://encrypted-tbn0.gstatic.com/images?q=tbn:ANd9GcQdp0sv9_x_7yBwRIlgrluWZVNSedAx6M8hB7L8m6WWUaRdqJqjcobh0XMRShY&amp;s\"/>,\n",
              " <img alt=\"\" class=\"yWs4tf\" src=\"https://encrypted-tbn0.gstatic.com/images?q=tbn:ANd9GcS4lYCfmOsd2slystZk7--KVKrbfQEYC5HeOwaJ5gjWdN07xoi7X4VxDlSRA0k&amp;s\"/>,\n",
              " <img alt=\"\" class=\"yWs4tf\" src=\"https://encrypted-tbn0.gstatic.com/images?q=tbn:ANd9GcSFhiWD9Bp7SXM_HP8_TlWzuvs7MF-mPYa7LV0h8Q7Gy6ii7TjuJikwKWaZTOE&amp;s\"/>,\n",
              " <img alt=\"\" class=\"yWs4tf\" src=\"https://encrypted-tbn0.gstatic.com/images?q=tbn:ANd9GcQJFQpxFJFZsh628isTwBzJeV7z1i_F4r410hUiLfCxlw_WIVX-Z2f75rzdclc&amp;s\"/>,\n",
              " <img alt=\"\" class=\"yWs4tf\" src=\"https://encrypted-tbn0.gstatic.com/images?q=tbn:ANd9GcTLLn1WoAqGzrQWbUxtA0y98y6iPD31rZvKP2RpYGOox1rGVR4iw3V5UbI0Mg&amp;s\"/>,\n",
              " <img alt=\"\" class=\"yWs4tf\" src=\"https://encrypted-tbn0.gstatic.com/images?q=tbn:ANd9GcQKRZjVWjcivGVgLh7IDewmQMMFcuimhpmWFRm4MlE5qhqjtfsoB3Ve2q_0bw&amp;s\"/>,\n",
              " <img alt=\"\" class=\"yWs4tf\" src=\"https://encrypted-tbn0.gstatic.com/images?q=tbn:ANd9GcRYaFb-WKT_XAdy2Qu2p7hJp7BYzWfW5XgRoL82No2224j-BP0sxyV5km_ifQ&amp;s\"/>,\n",
              " <img alt=\"\" class=\"yWs4tf\" src=\"https://encrypted-tbn0.gstatic.com/images?q=tbn:ANd9GcQ7rKWMtAczJu-8KN4XB0wwDRWgimhz-3NdBe53c-nRvFbErMUmYoi_8Q6m5A&amp;s\"/>,\n",
              " <img alt=\"\" class=\"yWs4tf\" src=\"https://encrypted-tbn0.gstatic.com/images?q=tbn:ANd9GcSC1eeoi5qU73_7skPH1BbXijtdec_8doYs6xw6sw04C3nM2iuorPSziDBNmkw&amp;s\"/>,\n",
              " <img alt=\"\" class=\"yWs4tf\" src=\"https://encrypted-tbn0.gstatic.com/images?q=tbn:ANd9GcQ8Vh2hIB3gkMOJFdlrYBzRjBTtTKaFxtlr4HZZMaffzKlf1uxRgHgT0D7b2w&amp;s\"/>]"
            ]
          },
          "metadata": {},
          "execution_count": 28
        }
      ]
    },
    {
      "cell_type": "code",
      "source": [
        "#target the source attribute\n",
        "image_source = []\n",
        "for image in all_images:\n",
        "    image = image.get('src')\n",
        "    image_source.append(image)\n",
        "    \n",
        "image_source"
      ],
      "metadata": {
        "colab": {
          "base_uri": "https://localhost:8080/"
        },
        "id": "4zbiI6-6YOhS",
        "outputId": "87f6003d-8b23-4847-e000-3806dc45f546"
      },
      "execution_count": 29,
      "outputs": [
        {
          "output_type": "execute_result",
          "data": {
            "text/plain": [
              "['/images/branding/searchlogo/1x/googlelogo_desk_heirloom_color_150x55dp.gif',\n",
              " 'https://encrypted-tbn0.gstatic.com/images?q=tbn:ANd9GcSJuEXmTSKR9l58eXylbu8B1sjphPPZSH1M5BMYmwVrVaUergeQa7XfcG6rKZk&s',\n",
              " 'https://encrypted-tbn0.gstatic.com/images?q=tbn:ANd9GcSPb0n2CBToQ-hK9855xO1hAcIariO0Ivm45Wkh0z48nyScTpC6R4rPhLlXdZQ&s',\n",
              " 'https://encrypted-tbn0.gstatic.com/images?q=tbn:ANd9GcTagma-A-PkMPXrzZbn5akRb2lTiiBJSRRHDkDEgtKrddZbNAxXwpTGwXLvwD8&s',\n",
              " 'https://encrypted-tbn0.gstatic.com/images?q=tbn:ANd9GcT9OcYMjjkg5KPK6IGCA41wiyqq47_0Qmi29shzBHXi97nihM2dO_l0t8siBnQ&s',\n",
              " 'https://encrypted-tbn0.gstatic.com/images?q=tbn:ANd9GcSf1JeNvMKeK53G9H4LvaM3x2-kiOcEN8LEPJrbqcwkUlqc36h-BAnXQy-oUrw&s',\n",
              " 'https://encrypted-tbn0.gstatic.com/images?q=tbn:ANd9GcRYA98PvLaorW61QtF55RD00Xsp350aD7gbOLUISBGzemXFm0PoOnSQfaeRsw&s',\n",
              " 'https://encrypted-tbn0.gstatic.com/images?q=tbn:ANd9GcQTOmkhPMLji4vd57r61axnTO1aysrz-7Wuv7-yUgBH010qK4I_Hiot6OGc3SQ&s',\n",
              " 'https://encrypted-tbn0.gstatic.com/images?q=tbn:ANd9GcTfLYoc2UQY1H-T6pDlPbAJ7J-_c5vxTdBLuMToBJRIM83bYkwLfUBzTW9VPHg&s',\n",
              " 'https://encrypted-tbn0.gstatic.com/images?q=tbn:ANd9GcSCt4GZvEBis4_VIQMzBfB5lVTwiiLaVJJkw2iEKWU_Y6E9n8RDJuhTnHaWKuQ&s',\n",
              " 'https://encrypted-tbn0.gstatic.com/images?q=tbn:ANd9GcSG-BtMakM9tksOOdP6k_yP7ixaNQ2FaTTu0BkBelQCKt7EKp5VseT1IcTXW6E&s',\n",
              " 'https://encrypted-tbn0.gstatic.com/images?q=tbn:ANd9GcQdp0sv9_x_7yBwRIlgrluWZVNSedAx6M8hB7L8m6WWUaRdqJqjcobh0XMRShY&s',\n",
              " 'https://encrypted-tbn0.gstatic.com/images?q=tbn:ANd9GcS4lYCfmOsd2slystZk7--KVKrbfQEYC5HeOwaJ5gjWdN07xoi7X4VxDlSRA0k&s',\n",
              " 'https://encrypted-tbn0.gstatic.com/images?q=tbn:ANd9GcSFhiWD9Bp7SXM_HP8_TlWzuvs7MF-mPYa7LV0h8Q7Gy6ii7TjuJikwKWaZTOE&s',\n",
              " 'https://encrypted-tbn0.gstatic.com/images?q=tbn:ANd9GcQJFQpxFJFZsh628isTwBzJeV7z1i_F4r410hUiLfCxlw_WIVX-Z2f75rzdclc&s',\n",
              " 'https://encrypted-tbn0.gstatic.com/images?q=tbn:ANd9GcTLLn1WoAqGzrQWbUxtA0y98y6iPD31rZvKP2RpYGOox1rGVR4iw3V5UbI0Mg&s',\n",
              " 'https://encrypted-tbn0.gstatic.com/images?q=tbn:ANd9GcQKRZjVWjcivGVgLh7IDewmQMMFcuimhpmWFRm4MlE5qhqjtfsoB3Ve2q_0bw&s',\n",
              " 'https://encrypted-tbn0.gstatic.com/images?q=tbn:ANd9GcRYaFb-WKT_XAdy2Qu2p7hJp7BYzWfW5XgRoL82No2224j-BP0sxyV5km_ifQ&s',\n",
              " 'https://encrypted-tbn0.gstatic.com/images?q=tbn:ANd9GcQ7rKWMtAczJu-8KN4XB0wwDRWgimhz-3NdBe53c-nRvFbErMUmYoi_8Q6m5A&s',\n",
              " 'https://encrypted-tbn0.gstatic.com/images?q=tbn:ANd9GcSC1eeoi5qU73_7skPH1BbXijtdec_8doYs6xw6sw04C3nM2iuorPSziDBNmkw&s',\n",
              " 'https://encrypted-tbn0.gstatic.com/images?q=tbn:ANd9GcQ8Vh2hIB3gkMOJFdlrYBzRjBTtTKaFxtlr4HZZMaffzKlf1uxRgHgT0D7b2w&s']"
            ]
          },
          "metadata": {},
          "execution_count": 29
        }
      ]
    },
    {
      "cell_type": "markdown",
      "source": [
        "# getting rid of all the bad links"
      ],
      "metadata": {
        "id": "j0iyp6oYZg5t"
      }
    },
    {
      "cell_type": "code",
      "source": [
        "image_source = [image for image in image_source if image.startswith('https')]\n",
        "image_source"
      ],
      "metadata": {
        "colab": {
          "base_uri": "https://localhost:8080/"
        },
        "id": "K52vvAHqZGBb",
        "outputId": "fc7ab948-706b-4432-8d97-0469ca6d37fe"
      },
      "execution_count": 30,
      "outputs": [
        {
          "output_type": "execute_result",
          "data": {
            "text/plain": [
              "['https://encrypted-tbn0.gstatic.com/images?q=tbn:ANd9GcSJuEXmTSKR9l58eXylbu8B1sjphPPZSH1M5BMYmwVrVaUergeQa7XfcG6rKZk&s',\n",
              " 'https://encrypted-tbn0.gstatic.com/images?q=tbn:ANd9GcSPb0n2CBToQ-hK9855xO1hAcIariO0Ivm45Wkh0z48nyScTpC6R4rPhLlXdZQ&s',\n",
              " 'https://encrypted-tbn0.gstatic.com/images?q=tbn:ANd9GcTagma-A-PkMPXrzZbn5akRb2lTiiBJSRRHDkDEgtKrddZbNAxXwpTGwXLvwD8&s',\n",
              " 'https://encrypted-tbn0.gstatic.com/images?q=tbn:ANd9GcT9OcYMjjkg5KPK6IGCA41wiyqq47_0Qmi29shzBHXi97nihM2dO_l0t8siBnQ&s',\n",
              " 'https://encrypted-tbn0.gstatic.com/images?q=tbn:ANd9GcSf1JeNvMKeK53G9H4LvaM3x2-kiOcEN8LEPJrbqcwkUlqc36h-BAnXQy-oUrw&s',\n",
              " 'https://encrypted-tbn0.gstatic.com/images?q=tbn:ANd9GcRYA98PvLaorW61QtF55RD00Xsp350aD7gbOLUISBGzemXFm0PoOnSQfaeRsw&s',\n",
              " 'https://encrypted-tbn0.gstatic.com/images?q=tbn:ANd9GcQTOmkhPMLji4vd57r61axnTO1aysrz-7Wuv7-yUgBH010qK4I_Hiot6OGc3SQ&s',\n",
              " 'https://encrypted-tbn0.gstatic.com/images?q=tbn:ANd9GcTfLYoc2UQY1H-T6pDlPbAJ7J-_c5vxTdBLuMToBJRIM83bYkwLfUBzTW9VPHg&s',\n",
              " 'https://encrypted-tbn0.gstatic.com/images?q=tbn:ANd9GcSCt4GZvEBis4_VIQMzBfB5lVTwiiLaVJJkw2iEKWU_Y6E9n8RDJuhTnHaWKuQ&s',\n",
              " 'https://encrypted-tbn0.gstatic.com/images?q=tbn:ANd9GcSG-BtMakM9tksOOdP6k_yP7ixaNQ2FaTTu0BkBelQCKt7EKp5VseT1IcTXW6E&s',\n",
              " 'https://encrypted-tbn0.gstatic.com/images?q=tbn:ANd9GcQdp0sv9_x_7yBwRIlgrluWZVNSedAx6M8hB7L8m6WWUaRdqJqjcobh0XMRShY&s',\n",
              " 'https://encrypted-tbn0.gstatic.com/images?q=tbn:ANd9GcS4lYCfmOsd2slystZk7--KVKrbfQEYC5HeOwaJ5gjWdN07xoi7X4VxDlSRA0k&s',\n",
              " 'https://encrypted-tbn0.gstatic.com/images?q=tbn:ANd9GcSFhiWD9Bp7SXM_HP8_TlWzuvs7MF-mPYa7LV0h8Q7Gy6ii7TjuJikwKWaZTOE&s',\n",
              " 'https://encrypted-tbn0.gstatic.com/images?q=tbn:ANd9GcQJFQpxFJFZsh628isTwBzJeV7z1i_F4r410hUiLfCxlw_WIVX-Z2f75rzdclc&s',\n",
              " 'https://encrypted-tbn0.gstatic.com/images?q=tbn:ANd9GcTLLn1WoAqGzrQWbUxtA0y98y6iPD31rZvKP2RpYGOox1rGVR4iw3V5UbI0Mg&s',\n",
              " 'https://encrypted-tbn0.gstatic.com/images?q=tbn:ANd9GcQKRZjVWjcivGVgLh7IDewmQMMFcuimhpmWFRm4MlE5qhqjtfsoB3Ve2q_0bw&s',\n",
              " 'https://encrypted-tbn0.gstatic.com/images?q=tbn:ANd9GcRYaFb-WKT_XAdy2Qu2p7hJp7BYzWfW5XgRoL82No2224j-BP0sxyV5km_ifQ&s',\n",
              " 'https://encrypted-tbn0.gstatic.com/images?q=tbn:ANd9GcQ7rKWMtAczJu-8KN4XB0wwDRWgimhz-3NdBe53c-nRvFbErMUmYoi_8Q6m5A&s',\n",
              " 'https://encrypted-tbn0.gstatic.com/images?q=tbn:ANd9GcSC1eeoi5qU73_7skPH1BbXijtdec_8doYs6xw6sw04C3nM2iuorPSziDBNmkw&s',\n",
              " 'https://encrypted-tbn0.gstatic.com/images?q=tbn:ANd9GcQ8Vh2hIB3gkMOJFdlrYBzRjBTtTKaFxtlr4HZZMaffzKlf1uxRgHgT0D7b2w&s']"
            ]
          },
          "metadata": {},
          "execution_count": 30
        }
      ]
    },
    {
      "cell_type": "markdown",
      "source": [
        "# Create a new local directory on our computer"
      ],
      "metadata": {
        "id": "34xYWNoHaNpb"
      }
    },
    {
      "cell_type": "code",
      "source": [
        "import os #to help us create new directory\n",
        "import wget #to help us with saving\n",
        "\n",
        "path = os.getcwd() #will return the current dir we are in\n",
        "print(path)\n",
        "path = os.path.join(path, search_term + \"s\")\n",
        "print(path)\n",
        "\n",
        "#create the directory\n",
        "os.mkdir(path)\n",
        "path\n"
      ],
      "metadata": {
        "colab": {
          "base_uri": "https://localhost:8080/",
          "height": 249
        },
        "id": "UDi8CNbPZpP-",
        "outputId": "e2f579bd-431c-4bb7-c44b-5135075553f9"
      },
      "execution_count": 40,
      "outputs": [
        {
          "output_type": "stream",
          "name": "stdout",
          "text": [
            "/content\n",
            "/content/dogs\n"
          ]
        },
        {
          "output_type": "error",
          "ename": "FileExistsError",
          "evalue": "ignored",
          "traceback": [
            "\u001b[0;31m---------------------------------------------------------------------------\u001b[0m",
            "\u001b[0;31mFileExistsError\u001b[0m                           Traceback (most recent call last)",
            "\u001b[0;32m<ipython-input-40-811f9c78a560>\u001b[0m in \u001b[0;36m<module>\u001b[0;34m()\u001b[0m\n\u001b[1;32m      8\u001b[0m \u001b[0;34m\u001b[0m\u001b[0m\n\u001b[1;32m      9\u001b[0m \u001b[0;31m#create the directory\u001b[0m\u001b[0;34m\u001b[0m\u001b[0;34m\u001b[0m\u001b[0;34m\u001b[0m\u001b[0m\n\u001b[0;32m---> 10\u001b[0;31m \u001b[0mos\u001b[0m\u001b[0;34m.\u001b[0m\u001b[0mmkdir\u001b[0m\u001b[0;34m(\u001b[0m\u001b[0mpath\u001b[0m\u001b[0;34m)\u001b[0m\u001b[0;34m\u001b[0m\u001b[0;34m\u001b[0m\u001b[0m\n\u001b[0m\u001b[1;32m     11\u001b[0m \u001b[0mpath\u001b[0m\u001b[0;34m\u001b[0m\u001b[0;34m\u001b[0m\u001b[0m\n",
            "\u001b[0;31mFileExistsError\u001b[0m: [Errno 17] File exists: '/content/dogs'"
          ]
        }
      ]
    },
    {
      "cell_type": "code",
      "source": [
        "#download images\n",
        "counter = 0\n",
        "for image in image_source:\n",
        "    save_as = os.path.join(path, search_term + str(counter) + '.jpg')\n",
        "    wget.download(image, save_as)\n",
        "    counter += 1\n"
      ],
      "metadata": {
        "id": "23Ktg5wybEgd"
      },
      "execution_count": null,
      "outputs": []
    }
  ]
}